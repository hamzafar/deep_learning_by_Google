{
 "cells": [
  {
   "cell_type": "code",
   "execution_count": 1,
   "metadata": {
    "collapsed": false
   },
   "outputs": [
    {
     "name": "stderr",
     "output_type": "stream",
     "text": [
      "Using TensorFlow backend.\n"
     ]
    }
   ],
   "source": [
    "import keras"
   ]
  },
  {
   "cell_type": "code",
   "execution_count": 2,
   "metadata": {
    "collapsed": true
   },
   "outputs": [],
   "source": [
    "import matplotlib.pyplot as plt"
   ]
  },
  {
   "cell_type": "code",
   "execution_count": 3,
   "metadata": {
    "collapsed": true
   },
   "outputs": [],
   "source": [
    "import pandas as pd\n",
    "import numpy as np"
   ]
  },
  {
   "cell_type": "code",
   "execution_count": 4,
   "metadata": {
    "collapsed": true
   },
   "outputs": [],
   "source": [
    "# seed random value for reproduciablit\n",
    "np.random.seed(10)"
   ]
  },
  {
   "cell_type": "code",
   "execution_count": 5,
   "metadata": {
    "collapsed": false
   },
   "outputs": [],
   "source": [
    "# read data in dataframe\n",
    "df_train = pd.read_csv('D:/deepL_google/project/train.csv')"
   ]
  },
  {
   "cell_type": "code",
   "execution_count": 6,
   "metadata": {
    "collapsed": false
   },
   "outputs": [
    {
     "name": "stdout",
     "output_type": "stream",
     "text": [
      "42000\n"
     ]
    },
    {
     "data": {
      "text/html": [
       "<div>\n",
       "<table border=\"1\" class=\"dataframe\">\n",
       "  <thead>\n",
       "    <tr style=\"text-align: right;\">\n",
       "      <th></th>\n",
       "      <th>label</th>\n",
       "      <th>pixel0</th>\n",
       "      <th>pixel1</th>\n",
       "      <th>pixel2</th>\n",
       "      <th>pixel3</th>\n",
       "      <th>pixel4</th>\n",
       "      <th>pixel5</th>\n",
       "      <th>pixel6</th>\n",
       "      <th>pixel7</th>\n",
       "      <th>pixel8</th>\n",
       "      <th>...</th>\n",
       "      <th>pixel774</th>\n",
       "      <th>pixel775</th>\n",
       "      <th>pixel776</th>\n",
       "      <th>pixel777</th>\n",
       "      <th>pixel778</th>\n",
       "      <th>pixel779</th>\n",
       "      <th>pixel780</th>\n",
       "      <th>pixel781</th>\n",
       "      <th>pixel782</th>\n",
       "      <th>pixel783</th>\n",
       "    </tr>\n",
       "  </thead>\n",
       "  <tbody>\n",
       "    <tr>\n",
       "      <th>0</th>\n",
       "      <td>1</td>\n",
       "      <td>0</td>\n",
       "      <td>0</td>\n",
       "      <td>0</td>\n",
       "      <td>0</td>\n",
       "      <td>0</td>\n",
       "      <td>0</td>\n",
       "      <td>0</td>\n",
       "      <td>0</td>\n",
       "      <td>0</td>\n",
       "      <td>...</td>\n",
       "      <td>0</td>\n",
       "      <td>0</td>\n",
       "      <td>0</td>\n",
       "      <td>0</td>\n",
       "      <td>0</td>\n",
       "      <td>0</td>\n",
       "      <td>0</td>\n",
       "      <td>0</td>\n",
       "      <td>0</td>\n",
       "      <td>0</td>\n",
       "    </tr>\n",
       "    <tr>\n",
       "      <th>1</th>\n",
       "      <td>0</td>\n",
       "      <td>0</td>\n",
       "      <td>0</td>\n",
       "      <td>0</td>\n",
       "      <td>0</td>\n",
       "      <td>0</td>\n",
       "      <td>0</td>\n",
       "      <td>0</td>\n",
       "      <td>0</td>\n",
       "      <td>0</td>\n",
       "      <td>...</td>\n",
       "      <td>0</td>\n",
       "      <td>0</td>\n",
       "      <td>0</td>\n",
       "      <td>0</td>\n",
       "      <td>0</td>\n",
       "      <td>0</td>\n",
       "      <td>0</td>\n",
       "      <td>0</td>\n",
       "      <td>0</td>\n",
       "      <td>0</td>\n",
       "    </tr>\n",
       "    <tr>\n",
       "      <th>2</th>\n",
       "      <td>1</td>\n",
       "      <td>0</td>\n",
       "      <td>0</td>\n",
       "      <td>0</td>\n",
       "      <td>0</td>\n",
       "      <td>0</td>\n",
       "      <td>0</td>\n",
       "      <td>0</td>\n",
       "      <td>0</td>\n",
       "      <td>0</td>\n",
       "      <td>...</td>\n",
       "      <td>0</td>\n",
       "      <td>0</td>\n",
       "      <td>0</td>\n",
       "      <td>0</td>\n",
       "      <td>0</td>\n",
       "      <td>0</td>\n",
       "      <td>0</td>\n",
       "      <td>0</td>\n",
       "      <td>0</td>\n",
       "      <td>0</td>\n",
       "    </tr>\n",
       "    <tr>\n",
       "      <th>3</th>\n",
       "      <td>4</td>\n",
       "      <td>0</td>\n",
       "      <td>0</td>\n",
       "      <td>0</td>\n",
       "      <td>0</td>\n",
       "      <td>0</td>\n",
       "      <td>0</td>\n",
       "      <td>0</td>\n",
       "      <td>0</td>\n",
       "      <td>0</td>\n",
       "      <td>...</td>\n",
       "      <td>0</td>\n",
       "      <td>0</td>\n",
       "      <td>0</td>\n",
       "      <td>0</td>\n",
       "      <td>0</td>\n",
       "      <td>0</td>\n",
       "      <td>0</td>\n",
       "      <td>0</td>\n",
       "      <td>0</td>\n",
       "      <td>0</td>\n",
       "    </tr>\n",
       "    <tr>\n",
       "      <th>4</th>\n",
       "      <td>0</td>\n",
       "      <td>0</td>\n",
       "      <td>0</td>\n",
       "      <td>0</td>\n",
       "      <td>0</td>\n",
       "      <td>0</td>\n",
       "      <td>0</td>\n",
       "      <td>0</td>\n",
       "      <td>0</td>\n",
       "      <td>0</td>\n",
       "      <td>...</td>\n",
       "      <td>0</td>\n",
       "      <td>0</td>\n",
       "      <td>0</td>\n",
       "      <td>0</td>\n",
       "      <td>0</td>\n",
       "      <td>0</td>\n",
       "      <td>0</td>\n",
       "      <td>0</td>\n",
       "      <td>0</td>\n",
       "      <td>0</td>\n",
       "    </tr>\n",
       "  </tbody>\n",
       "</table>\n",
       "<p>5 rows × 785 columns</p>\n",
       "</div>"
      ],
      "text/plain": [
       "   label  pixel0  pixel1  pixel2  pixel3  pixel4  pixel5  pixel6  pixel7  \\\n",
       "0      1       0       0       0       0       0       0       0       0   \n",
       "1      0       0       0       0       0       0       0       0       0   \n",
       "2      1       0       0       0       0       0       0       0       0   \n",
       "3      4       0       0       0       0       0       0       0       0   \n",
       "4      0       0       0       0       0       0       0       0       0   \n",
       "\n",
       "   pixel8    ...     pixel774  pixel775  pixel776  pixel777  pixel778  \\\n",
       "0       0    ...            0         0         0         0         0   \n",
       "1       0    ...            0         0         0         0         0   \n",
       "2       0    ...            0         0         0         0         0   \n",
       "3       0    ...            0         0         0         0         0   \n",
       "4       0    ...            0         0         0         0         0   \n",
       "\n",
       "   pixel779  pixel780  pixel781  pixel782  pixel783  \n",
       "0         0         0         0         0         0  \n",
       "1         0         0         0         0         0  \n",
       "2         0         0         0         0         0  \n",
       "3         0         0         0         0         0  \n",
       "4         0         0         0         0         0  \n",
       "\n",
       "[5 rows x 785 columns]"
      ]
     },
     "execution_count": 6,
     "metadata": {},
     "output_type": "execute_result"
    }
   ],
   "source": [
    "tmp_df = df_train\n",
    "print(len(tmp_df))\n",
    "tmp_df.head()"
   ]
  },
  {
   "cell_type": "code",
   "execution_count": 7,
   "metadata": {
    "collapsed": true
   },
   "outputs": [],
   "source": [
    "# split data into feature set and target values\n",
    "# x_train --> features\n",
    "# y_trian --> target\n",
    "x_train = np.array(tmp_df.ix[:,1:785])\n",
    "y_train = np.array(tmp_df.ix[:,0])"
   ]
  },
  {
   "cell_type": "code",
   "execution_count": 8,
   "metadata": {
    "collapsed": true
   },
   "outputs": [],
   "source": [
    "num_classes=10"
   ]
  },
  {
   "cell_type": "code",
   "execution_count": 9,
   "metadata": {
    "collapsed": true
   },
   "outputs": [],
   "source": [
    "# convert target values to hot enconding\n",
    "# in this case we have 10 classes (0-9)\n",
    "y_labels = keras.utils.to_categorical(y_train, num_classes)"
   ]
  },
  {
   "cell_type": "code",
   "execution_count": 10,
   "metadata": {
    "collapsed": false
   },
   "outputs": [
    {
     "name": "stdout",
     "output_type": "stream",
     "text": [
      "(42000, 784)\n"
     ]
    }
   ],
   "source": [
    "print(x_train.shape)"
   ]
  },
  {
   "cell_type": "code",
   "execution_count": 11,
   "metadata": {
    "collapsed": false
   },
   "outputs": [
    {
     "name": "stdout",
     "output_type": "stream",
     "text": [
      "(42000, 1, 28, 28)\n"
     ]
    }
   ],
   "source": [
    "# Reshape data \n",
    "X_train = x_train.reshape(x_train.shape[0], 1, 28, 28).astype('float32')\n",
    "X_train = X_train/255.0\n",
    "print(X_train.shape)"
   ]
  },
  {
   "cell_type": "code",
   "execution_count": 12,
   "metadata": {
    "collapsed": false
   },
   "outputs": [
    {
     "data": {
      "text/plain": [
       "(28, 28)"
      ]
     },
     "execution_count": 12,
     "metadata": {},
     "output_type": "execute_result"
    }
   ],
   "source": [
    "X_train[0,0].shape"
   ]
  },
  {
   "cell_type": "code",
   "execution_count": 13,
   "metadata": {
    "collapsed": true
   },
   "outputs": [],
   "source": [
    "import matplotlib.pyplot as plt"
   ]
  },
  {
   "cell_type": "code",
   "execution_count": 14,
   "metadata": {
    "collapsed": false
   },
   "outputs": [
    {
     "data": {
      "image/png": "[encoded data removed]",
      "text/plain": [
       "<matplotlib.figure.Figure at 0xbab75f8>"
      ]
     },
     "metadata": {},
     "output_type": "display_data"
    }
   ],
   "source": [
    "plt.imshow(X_train[6,0])\n",
    "plt.show()"
   ]
  },
  {
   "cell_type": "code",
   "execution_count": 45,
   "metadata": {
    "collapsed": true
   },
   "outputs": [],
   "source": [
    "from keras.models import Sequential\n",
    "\n",
    "from keras.layers import Dense\n",
    "from keras.layers import Dropout\n",
    "from keras.layers import Flatten\n",
    "from keras.layers.convolutional import Conv2D\n",
    "from keras.layers.convolutional import MaxPooling2D\n",
    "from keras.utils import np_utils\n",
    "\n",
    "from keras import backend as K\n",
    "K.set_image_dim_ordering('th')"
   ]
  },
  {
   "cell_type": "markdown",
   "metadata": {},
   "source": [
    "Simplest Model with one conv layer and fully connected layer"
   ]
  },
  {
   "cell_type": "code",
   "execution_count": 35,
   "metadata": {
    "collapsed": false
   },
   "outputs": [],
   "source": [
    "model = Sequential()\n",
    "# Convolutional layer with 10 filter and size of 5x5\n",
    "model.add(Conv2D(10, (5, 5), input_shape=(1, 28, 28), activation='relu'))\n",
    "\n",
    "# fully connected layer\n",
    "model.add(Flatten())\n",
    "model.add(Dense(num_classes, activation='softmax'))\n",
    "\n",
    "\n",
    "model.compile(loss='categorical_crossentropy', optimizer='adam', metrics=['accuracy'])"
   ]
  },
  {
   "cell_type": "code",
   "execution_count": 36,
   "metadata": {
    "collapsed": false
   },
   "outputs": [
    {
     "name": "stdout",
     "output_type": "stream",
     "text": [
      "_________________________________________________________________\n",
      "Layer (type)                 Output Shape              Param #   \n",
      "=================================================================\n",
      "conv2d_14 (Conv2D)           (None, 10, 24, 24)        260       \n",
      "_________________________________________________________________\n",
      "flatten_1 (Flatten)          (None, 5760)              0         \n",
      "_________________________________________________________________\n",
      "dense_8 (Dense)              (None, 10)                57610     \n",
      "=================================================================\n",
      "Total params: 57,870.0\n",
      "Trainable params: 57,870.0\n",
      "Non-trainable params: 0.0\n",
      "_________________________________________________________________\n"
     ]
    }
   ],
   "source": [
    "model.summary()"
   ]
  },
  {
   "cell_type": "code",
   "execution_count": 37,
   "metadata": {
    "collapsed": false,
    "scrolled": true
   },
   "outputs": [
    {
     "name": "stdout",
     "output_type": "stream",
     "text": [
      "Train on 33600 samples, validate on 8400 samples\n",
      "Epoch 1/10\n",
      "33600/33600 [==============================] - 25s - loss: 1.5569 - acc: 0.6890 - val_loss: 0.7686 - val_acc: 0.8326\n",
      "Epoch 2/10\n",
      "33600/33600 [==============================] - 3s - loss: 0.5387 - acc: 0.8579 - val_loss: 0.3877 - val_acc: 0.8913\n",
      "Epoch 3/10\n",
      "33600/33600 [==============================] - 3s - loss: 0.3510 - acc: 0.8993 - val_loss: 0.3041 - val_acc: 0.9157\n",
      "Epoch 4/10\n",
      "33600/33600 [==============================] - 3s - loss: 0.2912 - acc: 0.9170 - val_loss: 0.2674 - val_acc: 0.9239\n",
      "Epoch 5/10\n",
      "33600/33600 [==============================] - 3s - loss: 0.2585 - acc: 0.9282 - val_loss: 0.2428 - val_acc: 0.9323\n",
      "Epoch 6/10\n",
      "33600/33600 [==============================] - 3s - loss: 0.2333 - acc: 0.9359 - val_loss: 0.2191 - val_acc: 0.9393\n",
      "Epoch 7/10\n",
      "33600/33600 [==============================] - 3s - loss: 0.2105 - acc: 0.9415 - val_loss: 0.2014 - val_acc: 0.9444\n",
      "Epoch 8/10\n",
      "33600/33600 [==============================] - 3s - loss: 0.1930 - acc: 0.9461 - val_loss: 0.1864 - val_acc: 0.9489\n",
      "Epoch 9/10\n",
      "33600/33600 [==============================] - 3s - loss: 0.1767 - acc: 0.9508 - val_loss: 0.1737 - val_acc: 0.9530\n",
      "Epoch 10/10\n",
      "33600/33600 [==============================] - 3s - loss: 0.1636 - acc: 0.9546 - val_loss: 0.1604 - val_acc: 0.9554\n"
     ]
    },
    {
     "data": {
      "text/plain": [
       "<keras.callbacks.History at 0xce60eb8>"
      ]
     },
     "execution_count": 37,
     "metadata": {},
     "output_type": "execute_result"
    }
   ],
   "source": [
    "# learn dl model\n",
    "model.fit(X_train, y_labels, epochs=10, batch_size=2000, validation_split=0.2)"
   ]
  },
  {
   "cell_type": "markdown",
   "metadata": {},
   "source": [
    "### Adding Dropout to above model"
   ]
  },
  {
   "cell_type": "code",
   "execution_count": 40,
   "metadata": {
    "collapsed": false
   },
   "outputs": [],
   "source": [
    "model = Sequential()\n",
    "# Convolutional layer with 10 filter and size of 5x5\n",
    "model.add(Conv2D(10, (5, 5), input_shape=(1, 28, 28), activation='relu'))\n",
    "\n",
    "# Dropout layer\n",
    "model.add(Dropout(0.2))\n",
    "\n",
    "# fully connected layer\n",
    "model.add(Flatten())\n",
    "model.add(Dense(num_classes, activation='softmax'))\n",
    "\n",
    "\n",
    "model.compile(loss='categorical_crossentropy', optimizer='adam', metrics=['accuracy'])"
   ]
  },
  {
   "cell_type": "code",
   "execution_count": 41,
   "metadata": {
    "collapsed": false
   },
   "outputs": [
    {
     "name": "stdout",
     "output_type": "stream",
     "text": [
      "_________________________________________________________________\n",
      "Layer (type)                 Output Shape              Param #   \n",
      "=================================================================\n",
      "conv2d_16 (Conv2D)           (None, 10, 24, 24)        260       \n",
      "_________________________________________________________________\n",
      "dropout_1 (Dropout)          (None, 10, 24, 24)        0         \n",
      "_________________________________________________________________\n",
      "flatten_2 (Flatten)          (None, 5760)              0         \n",
      "_________________________________________________________________\n",
      "dense_9 (Dense)              (None, 10)                57610     \n",
      "=================================================================\n",
      "Total params: 57,870.0\n",
      "Trainable params: 57,870.0\n",
      "Non-trainable params: 0.0\n",
      "_________________________________________________________________\n"
     ]
    }
   ],
   "source": [
    "model.summary()"
   ]
  },
  {
   "cell_type": "code",
   "execution_count": 42,
   "metadata": {
    "collapsed": false
   },
   "outputs": [
    {
     "name": "stdout",
     "output_type": "stream",
     "text": [
      "Train on 33600 samples, validate on 8400 samples\n",
      "Epoch 1/10\n",
      "33600/33600 [==============================] - 7s - loss: 1.5617 - acc: 0.6334 - val_loss: 0.7690 - val_acc: 0.8269\n",
      "Epoch 2/10\n",
      "33600/33600 [==============================] - 3s - loss: 0.5444 - acc: 0.8563 - val_loss: 0.3890 - val_acc: 0.8883\n",
      "Epoch 3/10\n",
      "33600/33600 [==============================] - 3s - loss: 0.3575 - acc: 0.8953 - val_loss: 0.3066 - val_acc: 0.9130\n",
      "Epoch 4/10\n",
      "33600/33600 [==============================] - 3s - loss: 0.2994 - acc: 0.9141 - val_loss: 0.2682 - val_acc: 0.9249\n",
      "Epoch 5/10\n",
      "33600/33600 [==============================] - 3s - loss: 0.2667 - acc: 0.9237 - val_loss: 0.2398 - val_acc: 0.9340\n",
      "Epoch 6/10\n",
      "33600/33600 [==============================] - 3s - loss: 0.2406 - acc: 0.9316 - val_loss: 0.2178 - val_acc: 0.9398\n",
      "Epoch 7/10\n",
      "33600/33600 [==============================] - 3s - loss: 0.2202 - acc: 0.9379 - val_loss: 0.2015 - val_acc: 0.9435\n",
      "Epoch 8/10\n",
      "33600/33600 [==============================] - 3s - loss: 0.2019 - acc: 0.9431 - val_loss: 0.1872 - val_acc: 0.9479\n",
      "Epoch 9/10\n",
      "33600/33600 [==============================] - 3s - loss: 0.1862 - acc: 0.9479 - val_loss: 0.1767 - val_acc: 0.9507\n",
      "Epoch 10/10\n",
      "33600/33600 [==============================] - 3s - loss: 0.1742 - acc: 0.9511 - val_loss: 0.1636 - val_acc: 0.9543\n"
     ]
    },
    {
     "data": {
      "text/plain": [
       "<keras.callbacks.History at 0xd28dac8>"
      ]
     },
     "execution_count": 42,
     "metadata": {},
     "output_type": "execute_result"
    }
   ],
   "source": [
    "# learn dl model\n",
    "model.fit(X_train, y_labels, epochs=10, batch_size=2000, validation_split=0.2)"
   ]
  },
  {
   "cell_type": "markdown",
   "metadata": {},
   "source": [
    "### Adding pooling layer to above model"
   ]
  },
  {
   "cell_type": "code",
   "execution_count": 53,
   "metadata": {
    "collapsed": false
   },
   "outputs": [],
   "source": [
    "model = Sequential()\n",
    "# Convolutional layer with 10 filter and size of 5x5\n",
    "model.add(Conv2D(10, (5, 5), input_shape=(1, 28, 28), activation='relu'))\n",
    "\n",
    "#Max pool layer\n",
    "model.add(MaxPooling2D(pool_size=(2, 2)))\n",
    "\n",
    "# Dropout layer\n",
    "model.add(Dropout(0.2))\n",
    "\n",
    "# fully connected layer\n",
    "model.add(Flatten())\n",
    "model.add(Dense(num_classes, activation='softmax'))\n",
    "\n",
    "\n",
    "model.compile(loss='categorical_crossentropy', optimizer='adam', metrics=['accuracy'])"
   ]
  },
  {
   "cell_type": "code",
   "execution_count": 54,
   "metadata": {
    "collapsed": false
   },
   "outputs": [
    {
     "name": "stdout",
     "output_type": "stream",
     "text": [
      "_________________________________________________________________\n",
      "Layer (type)                 Output Shape              Param #   \n",
      "=================================================================\n",
      "conv2d_21 (Conv2D)           (None, 10, 24, 24)        260       \n",
      "_________________________________________________________________\n",
      "max_pooling2d_4 (MaxPooling2 (None, 10, 12, 12)        0         \n",
      "_________________________________________________________________\n",
      "dropout_5 (Dropout)          (None, 10, 12, 12)        0         \n",
      "_________________________________________________________________\n",
      "flatten_6 (Flatten)          (None, 1440)              0         \n",
      "_________________________________________________________________\n",
      "dense_13 (Dense)             (None, 10)                14410     \n",
      "=================================================================\n",
      "Total params: 14,670.0\n",
      "Trainable params: 14,670.0\n",
      "Non-trainable params: 0.0\n",
      "_________________________________________________________________\n"
     ]
    }
   ],
   "source": [
    "model.summary()"
   ]
  },
  {
   "cell_type": "code",
   "execution_count": 55,
   "metadata": {
    "collapsed": false
   },
   "outputs": [
    {
     "name": "stdout",
     "output_type": "stream",
     "text": [
      "Train on 33600 samples, validate on 8400 samples\n",
      "Epoch 1/10\n",
      "33600/33600 [==============================] - 4s - loss: 1.9951 - acc: 0.4282 - val_loss: 1.5493 - val_acc: 0.7365\n",
      "Epoch 2/10\n",
      "33600/33600 [==============================] - 3s - loss: 1.1919 - acc: 0.7535 - val_loss: 0.8141 - val_acc: 0.8163\n",
      "Epoch 3/10\n",
      "33600/33600 [==============================] - 3s - loss: 0.6781 - acc: 0.8221 - val_loss: 0.5113 - val_acc: 0.8660\n",
      "Epoch 4/10\n",
      "33600/33600 [==============================] - 3s - loss: 0.4882 - acc: 0.8626 - val_loss: 0.3988 - val_acc: 0.8910\n",
      "Epoch 5/10\n",
      "33600/33600 [==============================] - 3s - loss: 0.4077 - acc: 0.8840 - val_loss: 0.3480 - val_acc: 0.9051\n",
      "Epoch 6/10\n",
      "33600/33600 [==============================] - 3s - loss: 0.3627 - acc: 0.8972 - val_loss: 0.3102 - val_acc: 0.9143\n",
      "Epoch 7/10\n",
      "33600/33600 [==============================] - 3s - loss: 0.3317 - acc: 0.9057 - val_loss: 0.2864 - val_acc: 0.9217\n",
      "Epoch 8/10\n",
      "33600/33600 [==============================] - 3s - loss: 0.3068 - acc: 0.9123 - val_loss: 0.2644 - val_acc: 0.9271\n",
      "Epoch 9/10\n",
      "33600/33600 [==============================] - 3s - loss: 0.2865 - acc: 0.9184 - val_loss: 0.2474 - val_acc: 0.9319\n",
      "Epoch 10/10\n",
      "33600/33600 [==============================] - 3s - loss: 0.2682 - acc: 0.9229 - val_loss: 0.2320 - val_acc: 0.9365\n"
     ]
    },
    {
     "data": {
      "text/plain": [
       "<keras.callbacks.History at 0x4bbc6ba8>"
      ]
     },
     "execution_count": 55,
     "metadata": {},
     "output_type": "execute_result"
    }
   ],
   "source": [
    "# learn dl model\n",
    "model.fit(X_train, y_labels, epochs=10, batch_size=2000, validation_split=0.2)"
   ]
  },
  {
   "cell_type": "code",
   "execution_count": null,
   "metadata": {
    "collapsed": true
   },
   "outputs": [],
   "source": []
  }
 ],
 "metadata": {
  "anaconda-cloud": {},
  "kernelspec": {
   "display_name": "Python [conda root]",
   "language": "python",
   "name": "conda-root-py"
  },
  "language_info": {
   "codemirror_mode": {
    "name": "ipython",
    "version": 3
   },
   "file_extension": ".py",
   "mimetype": "text/x-python",
   "name": "python",
   "nbconvert_exporter": "python",
   "pygments_lexer": "ipython3",
   "version": "3.5.2"
  }
 },
 "nbformat": 4,
 "nbformat_minor": 1
}
